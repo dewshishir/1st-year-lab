{
  "cells": [
    {
      "cell_type": "markdown",
      "metadata": {
        "id": "view-in-github",
        "colab_type": "text"
      },
      "source": [
        "<a href=\"https://colab.research.google.com/github/dewshishir/1st-year-lab/blob/main/Assignment.ipynb\" target=\"_parent\"><img src=\"https://colab.research.google.com/assets/colab-badge.svg\" alt=\"Open In Colab\"/></a>"
      ]
    },
    {
      "cell_type": "markdown",
      "id": "463d80ec",
      "metadata": {
        "id": "463d80ec"
      },
      "source": [
        "# Question 1:"
      ]
    },
    {
      "cell_type": "markdown",
      "id": "7428446f",
      "metadata": {
        "id": "7428446f"
      },
      "source": [
        "You are part of a team developing an automated language translation system. To\n",
        "enhance accuracy, you need to analyze the linguistic patterns in a given sentence. Create a\n",
        "Python function that not only counts the number of vowels but also identifies and prints each\n",
        "vowel along with its frequency in the sentence."
      ]
    },
    {
      "cell_type": "code",
      "execution_count": 3,
      "id": "932c4d92",
      "metadata": {
        "colab": {
          "base_uri": "https://localhost:8080/"
        },
        "id": "932c4d92",
        "outputId": "d9c53e85-2edd-4f5d-fe27-d0176334a3e1"
      },
      "outputs": [
        {
          "output_type": "stream",
          "name": "stdout",
          "text": [
            "a : 1\n",
            "e : 0\n",
            "i : 4\n",
            "o : 0\n",
            "u : 0\n"
          ]
        }
      ],
      "source": [
        "def vowel_count(sentence):\n",
        "    #Initialize a dictionary to vowel letters and its occurance\n",
        "    vowel = {'a':0, 'e':0, 'i':0, 'o':0, 'u':0}\n",
        "\n",
        "    #Converting the sentence into lowercase\n",
        "    sentence = sentence.lower()\n",
        "\n",
        "    #counting each vowel number\n",
        "    for i in sentence:\n",
        "        if i in vowel:\n",
        "            vowel[i] += 1\n",
        "\n",
        "    #printing each vowel and it's counting\n",
        "    for letter, cnt in vowel.items():\n",
        "        print(\"{} : {}\".format(letter, cnt))\n",
        "\n",
        "\n",
        "sentence = \"Hi i am shishir\"\n",
        "vowel_count(sentence)\n",
        ""
      ]
    },
    {
      "cell_type": "markdown",
      "id": "40f37990",
      "metadata": {
        "id": "40f37990"
      },
      "source": [
        "# Question 2:"
      ]
    },
    {
      "cell_type": "markdown",
      "id": "b19470fc",
      "metadata": {
        "id": "b19470fc"
      },
      "source": [
        "You are developing a text-based game. Write a Python function that takes a sentence\n",
        "and replaces all occurrences of a specified word with a placeholder, helping to censor\n",
        "inappropriate language."
      ]
    },
    {
      "cell_type": "code",
      "execution_count": 30,
      "id": "c42f5f03",
      "metadata": {
        "colab": {
          "base_uri": "https://localhost:8080/"
        },
        "id": "c42f5f03",
        "outputId": "5dac7fb7-ba6c-492f-f129-165b5793f6ce"
      },
      "outputs": [
        {
          "output_type": "stream",
          "name": "stdout",
          "text": [
            "Anan your mentality is so ####\n"
          ]
        }
      ],
      "source": [
        "def censor_word(sentence, word):\n",
        "    placeholder='#'\n",
        "    #replacing word with placeholder (#)\n",
        "    censored_sentence = sentence.replace(word, placeholder*len(word))\n",
        "    return censored_sentence\n",
        "\n",
        "\n",
        "sentence = \"Anan your mentality is so rude\"\n",
        "word_to_censor = \"rude\"\n",
        "censored_sentence = censor_word(sentence, word_to_censor)\n",
        "print(censored_sentence)\n"
      ]
    },
    {
      "cell_type": "markdown",
      "id": "eda55677",
      "metadata": {
        "id": "eda55677"
      },
      "source": [
        "# Question 3:"
      ]
    },
    {
      "cell_type": "markdown",
      "id": "9d567486",
      "metadata": {
        "id": "9d567486"
      },
      "source": [
        "You are developing a student grading system. Create a program that takes a list of\n",
        "student names and their scores. Convert this data into a list of tuples, each containing a\n",
        "student's name and their corresponding grade (A, B, C, etc.)."
      ]
    },
    {
      "cell_type": "code",
      "execution_count": 21,
      "id": "11608f5f",
      "metadata": {
        "colab": {
          "base_uri": "https://localhost:8080/"
        },
        "id": "11608f5f",
        "outputId": "6ee20f0b-b357-4a86-fd29-24345c466797"
      },
      "outputs": [
        {
          "output_type": "stream",
          "name": "stdout",
          "text": [
            "[('Anan', 'B'), ('Ratul', 'F'), ('sajid', 'D'), ('Aysha', 'D')]\n"
          ]
        }
      ],
      "source": [
        "def all_grade(score):\n",
        "    #Selecting grade by score\n",
        "    if score >= 90:\n",
        "        return 'A'\n",
        "    elif score >= 80:\n",
        "        return 'B'\n",
        "    elif score >= 70:\n",
        "        return 'C'\n",
        "    elif score >= 60:\n",
        "        return 'D'\n",
        "    elif score >= 50:\n",
        "      return 'E'\n",
        "    else:\n",
        "        return 'F'\n",
        "\n",
        "def convert_grade_list_tuples(student_scores):\n",
        "   #Converting data into a list of tuples\n",
        "    grade_list = []\n",
        "    for name, score in student_scores:\n",
        "        grade = all_grade(score)\n",
        "        grade_list.append((name, grade))\n",
        "    return grade_list\n",
        "\n",
        "#All student name with score\n",
        "student_scores = [(\"Anan\", 89), (\"Ratul\", 38), (\"sajid\", 65), (\"Aysha\", 69)]\n",
        "grade_list = convert_grade_list_tuples(student_scores)\n",
        "print(grade_list)"
      ]
    },
    {
      "cell_type": "markdown",
      "id": "7189af53",
      "metadata": {
        "id": "7189af53"
      },
      "source": [
        "# Question 4:"
      ]
    },
    {
      "cell_type": "markdown",
      "id": "ef1e531d",
      "metadata": {
        "id": "ef1e531d"
      },
      "source": [
        "You are managing a to-do list. Write a Python program that takes a list of tasks and\n",
        "organizes them into two separate lists: one for completed tasks and another for pending tasks.\n",
        "You to-do list looks like this: a) Wakeup (completed) b) Sleep c) Eat"
      ]
    },
    {
      "cell_type": "code",
      "execution_count": null,
      "id": "903c9a0d",
      "metadata": {
        "id": "903c9a0d",
        "outputId": "4e385d7a-17a2-4be7-8717-0e105e99f2a9"
      },
      "outputs": [
        {
          "name": "stdout",
          "output_type": "stream",
          "text": [
            "Completed tasks:\n",
            "- Wakeup \n",
            "- Read \n",
            "\n",
            "Pending tasks:\n",
            "Sleep\n",
            "Eat\n",
            "Exercise\n"
          ]
        }
      ],
      "source": [
        "def organize_tasks(task_list):\n",
        "\n",
        "    completed_tasks = []\n",
        "    pending_tasks = []\n",
        "    #Identifing completed task and storing them two seperated list\n",
        "    for task in task_list:\n",
        "        if \"(completed)\" in task.lower():\n",
        "            completed_tasks.append(task)\n",
        "        else:\n",
        "            pending_tasks.append(task)\n",
        "\n",
        "    return completed_tasks, pending_tasks\n",
        "\n",
        "# Example:\n",
        "user_tasks = [\n",
        "    \"Wakeup (completed)\",\n",
        "    \"Sleep\",\n",
        "    \"Eat\",\n",
        "    \"Read (completed)\",\n",
        "    \"Exercise\",\n",
        "]\n",
        "\n",
        "#storing list of completed and pending task\n",
        "completed, pending = organize_tasks(user_tasks)\n",
        "\n",
        "#print completed and pending task\n",
        "print(\"Completed tasks:\")\n",
        "for task in completed:\n",
        "    print(f\"- {task.replace('(completed)', '')}\")\n",
        "\n",
        "print(\"\\nPending tasks:\")\n",
        "for task in pending:\n",
        "    print(f\"{task}\")"
      ]
    },
    {
      "cell_type": "markdown",
      "id": "4580fbbf",
      "metadata": {
        "id": "4580fbbf"
      },
      "source": [
        "# Question 5:"
      ]
    },
    {
      "cell_type": "markdown",
      "id": "e43e629b",
      "metadata": {
        "id": "e43e629b"
      },
      "source": [
        "You are developing a data preprocessing pipeline. Create a Python program that uses\n",
        "a lambda function to filter out even numbers from a list and squares each remaining element."
      ]
    },
    {
      "cell_type": "code",
      "execution_count": 16,
      "id": "547c3df8",
      "metadata": {
        "colab": {
          "base_uri": "https://localhost:8080/"
        },
        "id": "547c3df8",
        "outputId": "ab320863-6684-41ed-ad14-3e8eafd47880"
      },
      "outputs": [
        {
          "output_type": "stream",
          "name": "stdout",
          "text": [
            "Filtering even and square number:\n",
            "[4, 16, 36, 64, 100]\n"
          ]
        }
      ],
      "source": [
        "# number in list\n",
        "numbers = [1, 2, 3, 4, 5, 6, 7, 8, 9,10]\n",
        "\n",
        "# Here We Filter out even numbers and square each remaining element\n",
        "filter_even_and_square = [(lambda x: x**2)(num) for num in numbers if num % 2 == 0]\n",
        "\n",
        "print(\"Filtering even and square number:\")\n",
        "print(filter_even_and_square)"
      ]
    },
    {
      "cell_type": "markdown",
      "source": [
        "# Question 6:"
      ],
      "metadata": {
        "id": "pj2vyGyBI_MC"
      },
      "id": "pj2vyGyBI_MC"
    },
    {
      "cell_type": "markdown",
      "source": [
        "You are developing a system to detect plagiarism in academic papers. Write a Python function\n",
        "that takes two sets of words (representing two documents) and calculates the Jaccard similarity\n",
        "between them, helping in identifying potential instances of plagiarism."
      ],
      "metadata": {
        "id": "r8N9EnRUJeLi"
      },
      "id": "r8N9EnRUJeLi"
    },
    {
      "cell_type": "markdown",
      "source": [
        "# Question 7:"
      ],
      "metadata": {
        "id": "AVgcITdnJKzb"
      },
      "id": "AVgcITdnJKzb"
    },
    {
      "cell_type": "markdown",
      "source": [
        "Alice and Bob are exchanging values through a secure system. Bob has implemented\n",
        "a function to provide a value to Alice, and Alice logs each transaction for security purposes.\n",
        "However, there are potential exceptions that need to be handled. Your task is to create a Python\n",
        "program that simulates this value exchange and logs any errors that may occur during the\n",
        "process. Create at least 3 errors and show that each of them are handled. Be creative!"
      ],
      "metadata": {
        "id": "PFLHa7LPJR74"
      },
      "id": "PFLHa7LPJR74"
    },
    {
      "cell_type": "markdown",
      "id": "6146961e",
      "metadata": {
        "id": "6146961e"
      },
      "source": [
        "# Question 8:"
      ]
    },
    {
      "cell_type": "markdown",
      "id": "b328fadb",
      "metadata": {
        "id": "b328fadb"
      },
      "source": [
        "You are designing a program to print a pyramid pattern using asterisks (*) and spaces.\n",
        "The pattern should resemble a pyramid with increasing width. Your task is to create a Python\n",
        "program that uses loops to generate and print the following pattern based on a given height n:\n",
        "For n = 4:"
      ]
    },
    {
      "cell_type": "code",
      "execution_count": 13,
      "id": "e3d75da1",
      "metadata": {
        "colab": {
          "base_uri": "https://localhost:8080/"
        },
        "id": "e3d75da1",
        "outputId": "cf4298a7-6aa7-4248-9ea4-df6266ec000a"
      },
      "outputs": [
        {
          "output_type": "stream",
          "name": "stdout",
          "text": [
            "   *\n",
            "  ***\n",
            " *****\n",
            "*******\n"
          ]
        }
      ],
      "source": [
        "def print_pyramid(n):\n",
        "\n",
        "  for i in range(n):\n",
        "    #This loop for handle space\n",
        "    for j in range(n - i - 1):\n",
        "      print(\" \", end=\"\")\n",
        "     #This loop for handle asterisks\n",
        "    for j in range(2 * i + 1):\n",
        "      print(\"*\", end=\"\")\n",
        "\n",
        "    print()\n",
        "#Given height 4\n",
        "print_pyramid(4)\n",
        "\n"
      ]
    }
  ],
  "metadata": {
    "kernelspec": {
      "display_name": "Python 3 (ipykernel)",
      "language": "python",
      "name": "python3"
    },
    "language_info": {
      "codemirror_mode": {
        "name": "ipython",
        "version": 3
      },
      "file_extension": ".py",
      "mimetype": "text/x-python",
      "name": "python",
      "nbconvert_exporter": "python",
      "pygments_lexer": "ipython3",
      "version": "3.11.5"
    },
    "colab": {
      "provenance": [],
      "include_colab_link": true
    }
  },
  "nbformat": 4,
  "nbformat_minor": 5
}